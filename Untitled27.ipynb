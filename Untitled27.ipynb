{
  "nbformat": 4,
  "nbformat_minor": 0,
  "metadata": {
    "colab": {
      "provenance": [],
      "authorship_tag": "ABX9TyO8PY9Y7Za/IO0x9IEJcG5i",
      "include_colab_link": true
    },
    "kernelspec": {
      "name": "python3",
      "display_name": "Python 3"
    },
    "language_info": {
      "name": "python"
    }
  },
  "cells": [
    {
      "cell_type": "markdown",
      "metadata": {
        "id": "view-in-github",
        "colab_type": "text"
      },
      "source": [
        "<a href=\"https://colab.research.google.com/github/SAIKUMAR500/poly-model-/blob/main/Untitled27.ipynb\" target=\"_parent\"><img src=\"https://colab.research.google.com/assets/colab-badge.svg\" alt=\"Open In Colab\"/></a>"
      ]
    },
    {
      "cell_type": "code",
      "execution_count": 1,
      "metadata": {
        "colab": {
          "base_uri": "https://localhost:8080/"
        },
        "id": "bkU-BSFvfCEy",
        "outputId": "95934a18-00cd-4d4f-85b2-310836e6f4b3"
      },
      "outputs": [
        {
          "output_type": "stream",
          "name": "stdout",
          "text": [
            "Hybrid Tree Performance:\n",
            "Train MSE: 0.0386\n",
            "Test MSE:  0.0362\n",
            "\n",
            "Baseline Comparisons:\n",
            "Pure Tree Test MSE: 0.1291\n",
            "Linear Model Test MSE: 0.3752\n",
            "Poly Model Test MSE: 0.3769\n"
          ]
        }
      ],
      "source": [
        "import numpy as np\n",
        "from sklearn.tree import DecisionTreeRegressor\n",
        "from sklearn.linear_model import LinearRegression\n",
        "from sklearn.preprocessing import PolynomialFeatures\n",
        "from sklearn.model_selection import train_test_split\n",
        "from sklearn.metrics import mean_squared_error\n",
        "\n",
        "# 1. Generate Synthetic Dataset with Mixed Patterns\n",
        "np.random.seed(42)\n",
        "X = np.random.rand(1000, 1) * 4 - 2  # X between -2 and 2\n",
        "y = np.where(X < 0,\n",
        "             2 * X + 1,              # Linear pattern for X < 0\n",
        "             0.5 * X**2 + X - 1      # Quadratic pattern for X >= 0\n",
        "            ).squeeze() + np.random.normal(0, 0.2, 1000)\n",
        "\n",
        "X_train, X_test, y_train, y_test = train_test_split(X, y, test_size=0.2, random_state=42)\n",
        "\n",
        "# 2. Initialize and Train Decision Tree\n",
        "partition_tree = DecisionTreeRegressor(\n",
        "    max_leaf_nodes=8,    # Controls model complexity\n",
        "    min_samples_leaf=20, # Prevent overfitting\n",
        "    random_state=42\n",
        ")\n",
        "partition_tree.fit(X_train, y_train)\n",
        "\n",
        "# 3. Train Leaf Models and Calculate Optimal Blending\n",
        "leaf_models = {}\n",
        "leaf_ids = partition_tree.apply(X_train)\n",
        "\n",
        "for leaf in np.unique(leaf_ids):\n",
        "    # Get samples in current leaf\n",
        "    mask = (leaf_ids == leaf)\n",
        "    X_leaf = X_train[mask]\n",
        "    y_leaf = y_train[mask]\n",
        "\n",
        "    # Skip small leaves (safety check)\n",
        "    if len(y_leaf) < 5:\n",
        "        continue\n",
        "\n",
        "    # A. Fit Linear Model\n",
        "    lin_reg = LinearRegression()\n",
        "    lin_reg.fit(X_leaf, y_leaf)\n",
        "    y_lin = lin_reg.predict(X_leaf)\n",
        "\n",
        "    # B. Fit Quadratic Model\n",
        "    poly = PolynomialFeatures(degree=2)\n",
        "    X_poly = poly.fit_transform(X_leaf)\n",
        "    poly_reg = LinearRegression()\n",
        "    poly_reg.fit(X_poly, y_leaf)\n",
        "    y_poly = poly_reg.predict(X_poly)\n",
        "\n",
        "    # C. Calculate Optimal Blend Weight (alpha)\n",
        "    # Solve: argminₐ Σ(y - (a*y_lin + (1-a)*y_poly))²\n",
        "    numerator = np.sum((y_lin - y_poly) * (y_leaf - y_poly))\n",
        "    denominator = np.sum((y_lin - y_poly)**2)\n",
        "    alpha = numerator / denominator if denominator != 0 else 0.5\n",
        "    alpha = np.clip(alpha, 0, 1)  # Constrain to [0,1]\n",
        "\n",
        "    # Store components\n",
        "    leaf_models[leaf] = {\n",
        "        'linear': lin_reg,\n",
        "        'poly': poly_reg,\n",
        "        'poly_transformer': poly,\n",
        "        'alpha': alpha\n",
        "    }\n",
        "\n",
        "# 4. Prediction Function\n",
        "def hybrid_predict(X):\n",
        "    leaves = partition_tree.apply(X)\n",
        "    return np.array([(\n",
        "        leaf_models[leaf]['alpha'] *\n",
        "        leaf_models[leaf]['linear'].predict([x])[0] +\n",
        "        (1 - leaf_models[leaf]['alpha']) *\n",
        "        leaf_models[leaf]['poly'].predict(\n",
        "            leaf_models[leaf]['poly_transformer'].transform([x])\n",
        "        )[0]\n",
        "    ) for x, leaf in zip(X, leaves)])\n",
        "\n",
        "# 5. Evaluate Model\n",
        "print(\"Hybrid Tree Performance:\")\n",
        "print(f\"Train MSE: {mean_squared_error(y_train, hybrid_predict(X_train)):.4f}\")\n",
        "print(f\"Test MSE:  {mean_squared_error(y_test, hybrid_predict(X_test)):.4f}\")\n",
        "\n",
        "# Compare with baseline models\n",
        "print(\"\\nBaseline Comparisons:\")\n",
        "# Regular Decision Tree\n",
        "print(f\"Pure Tree Test MSE: {mean_squared_error(y_test, partition_tree.predict(X_test)):.4f}\")\n",
        "\n",
        "# Single Linear Model\n",
        "lin_base = LinearRegression().fit(X_train, y_train)\n",
        "print(f\"Linear Model Test MSE: {mean_squared_error(y_test, lin_base.predict(X_test)):.4f}\")\n",
        "\n",
        "# Single Polynomial Model\n",
        "poly = PolynomialFeatures(degree=2)\n",
        "X_poly_train = poly.fit_transform(X_train)\n",
        "poly_base = LinearRegression().fit(X_poly_train, y_train)\n",
        "X_poly_test = poly.transform(X_test)\n",
        "print(f\"Poly Model Test MSE: {mean_squared_error(y_test, poly_base.predict(X_poly_test)):.4f}\")"
      ]
    },
    {
      "cell_type": "code",
      "source": [],
      "metadata": {
        "id": "qJ4xGcdIj8E-"
      },
      "execution_count": null,
      "outputs": []
    }
  ]
}